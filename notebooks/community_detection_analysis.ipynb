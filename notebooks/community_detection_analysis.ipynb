{
  "cells": [
    {
      "cell_type": "code",
      "execution_count": null,
      "metadata": {
        "vscode": {
          "languageId": "plaintext"
        }
      },
      "outputs": [],
      "source": [
        "# Community Detection: Classical Algorithms vs Graph Neural Networks\n",
        "\n",
        "Bu notebook, topluluk tespiti (community detection) konusunda klasik algoritmaları (Louvain, Label Propagation) Graph Neural Networks ile karşılaştıran kapsamlı bir analiz sunar.\n",
        "\n",
        "## Proje Hedefleri\n",
        "1. **Veri Yükleme**: Cora citation network verisetini Neo4j'ye yükleme\n",
        "2. **Klasik Algoritmalar**: Neo4j GDS ile Louvain ve Label Propagation çalıştırma\n",
        "3. **Graph Neural Networks**: PyTorch Geometric ile GCN, GraphSAGE, GAT modelleri\n",
        "4. **Karşılaştırma**: Tüm yöntemlerin performansını değerlendirme\n",
        "5. **Görselleştirme**: Sonuçları interaktif grafiklerle analiz etme\n"
      ]
    }
  ],
  "metadata": {
    "language_info": {
      "name": "python"
    }
  },
  "nbformat": 4,
  "nbformat_minor": 2
}
